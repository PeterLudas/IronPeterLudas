{
 "cells": [
  {
   "cell_type": "markdown",
   "id": "61f610bc",
   "metadata": {},
   "source": [
    "### It is assumed that the mean systolic blood pressure is μ = 120 mm Hg. In the Honolulu Heart Study, a sample of n = 100 people had an average systolic blood pressure of 130.1 mm Hg with a standard deviation of 21.21 mm Hg. Is the group significantly different (with respect to systolic blood pressure!) from the regular population?\n",
    "\n",
    "#### - Set up the hypothesis test.\n",
    "#### - Write down all the steps followed for setting up the test.\n",
    "#### - Calculate the test statistic by hand and also code it in Python. \n",
    "#####               - > It should be 4.76190. \n",
    "#### - What decision can you make based on this calculated value?"
   ]
  },
  {
   "cell_type": "markdown",
   "id": "ce4e83b8",
   "metadata": {},
   "source": [
    "### Setting up hypothesis\n",
    "#### H0: mu = 120\n",
    "#### Ha: mu = 130.1\n",
    "#### n = 100\n",
    "#### confidence level = 0.95\n",
    "#### std = 21.21\n",
    "#### alpha(significance level) = 1-c = 0.005\n",
    "\n",
    "#### if p-value <= alpha -> reject H0\n",
    "#### if p-value > alpha -> accept H0\n",
    "\n",
    "#### in this case we have to use a two-tailed test"
   ]
  },
  {
   "cell_type": "markdown",
   "id": "2fc0979d",
   "metadata": {},
   "source": []
  },
  {
   "cell_type": "code",
   "execution_count": 18,
   "id": "18de841f",
   "metadata": {},
   "outputs": [],
   "source": [
    "import scipy.stats"
   ]
  },
  {
   "cell_type": "code",
   "execution_count": 19,
   "id": "bac09046",
   "metadata": {},
   "outputs": [],
   "source": [
    "H0 = 120\n",
    "H1 = 130.1\n",
    "n = 100\n",
    "std_h1 = 21.21\n",
    "confidence_level = 0.95"
   ]
  },
  {
   "cell_type": "code",
   "execution_count": 40,
   "id": "0af402ab",
   "metadata": {},
   "outputs": [
    {
     "name": "stdout",
     "output_type": "stream",
     "text": [
      "The original thesis(H0) has been rejected. The sample-group has different blood pressure.\n"
     ]
    }
   ],
   "source": [
    "t_critical = t.ppf(0.975, df= n-1)\n",
    "\n",
    "t_test = (H1 - H0)/std_h1*n**(0.5)\n",
    "\n",
    "if t_test > t_critical:\n",
    "    print('The original thesis(H0) has been rejected. The sample-group has different blood pressure.')\n",
    "else:\n",
    "    print('The original thesis is correct, there is no significant difference in the blood pressure.') \n"
   ]
  },
  {
   "cell_type": "code",
   "execution_count": null,
   "id": "bbee3be7",
   "metadata": {},
   "outputs": [],
   "source": []
  }
 ],
 "metadata": {
  "kernelspec": {
   "display_name": "Python 3 (ipykernel)",
   "language": "python",
   "name": "python3"
  },
  "language_info": {
   "codemirror_mode": {
    "name": "ipython",
    "version": 3
   },
   "file_extension": ".py",
   "mimetype": "text/x-python",
   "name": "python",
   "nbconvert_exporter": "python",
   "pygments_lexer": "ipython3",
   "version": "3.8.12"
  }
 },
 "nbformat": 4,
 "nbformat_minor": 5
}
